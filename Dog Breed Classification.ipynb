version https://git-lfs.github.com/spec/v1
oid sha256:c78260d177e43b4cce9ce182380b5bd20cf32be9201e4c6e079c28514265d5ae
size 22259087
